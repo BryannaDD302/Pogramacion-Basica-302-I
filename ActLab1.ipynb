{
  "nbformat": 4,
  "nbformat_minor": 0,
  "metadata": {
    "colab": {
      "provenance": [],
      "authorship_tag": "ABX9TyMf9Mltd/TPLsdkDAvFpMuo",
      "include_colab_link": true
    },
    "kernelspec": {
      "name": "python3",
      "display_name": "Python 3"
    },
    "language_info": {
      "name": "python"
    }
  },
  "cells": [
    {
      "cell_type": "markdown",
      "metadata": {
        "id": "view-in-github",
        "colab_type": "text"
      },
      "source": [
        "<a href=\"https://colab.research.google.com/github/BryannaDD302/Pogramacion-Basica-302-I/blob/main/ActLab1.ipynb\" target=\"_parent\"><img src=\"https://colab.research.google.com/assets/colab-badge.svg\" alt=\"Open In Colab\"/></a>"
      ]
    },
    {
      "cell_type": "markdown",
      "source": [
        "# Actividad de Laboratorio 1 impresion de mensajes"
      ],
      "metadata": {
        "id": "qk5B-Rm7xq2h"
      }
    },
    {
      "cell_type": "markdown",
      "source": [
        "PB302_1.cpp Programa para Bienvenda"
      ],
      "metadata": {
        "id": "qbQPAxr4mNFQ"
      }
    },
    {
      "cell_type": "code",
      "source": [
        "%%writefile PB302_1.cpp\n",
        "//Programa para imprimir mensaje de binvenida\n",
        "//Creado por Bryanna Nathaly Duran Delgdo\n",
        "//Feha:15/septiembre/2025\n",
        "//PB302_1.cpp\n",
        "#include <iostream>\n",
        "using namespace std;\n",
        "int main ()\n",
        "{\n",
        "  cout<<\"Bienvenidos a Programacion Basica en C++\\n\";\n",
        "  cout<<\"Gracias por Programar en clase\";\n",
        "  return 0;\n",
        "}"
      ],
      "metadata": {
        "colab": {
          "base_uri": "https://localhost:8080/"
        },
        "id": "ctNsBCucn69R",
        "outputId": "49db3550-575a-47b8-a4d1-e31ad3244eb7"
      },
      "execution_count": null,
      "outputs": [
        {
          "output_type": "stream",
          "name": "stdout",
          "text": [
            "Overwriting PB302_1.cpp\n"
          ]
        }
      ]
    },
    {
      "cell_type": "code",
      "source": [
        "!g++ PB302_1.cpp -o PB302_1\n",
        "!./PB302_1"
      ],
      "metadata": {
        "colab": {
          "base_uri": "https://localhost:8080/"
        },
        "id": "e1UK1Uo_p4c4",
        "outputId": "da9abdc9-638b-422e-f3ad-40f6301a744e"
      },
      "execution_count": null,
      "outputs": [
        {
          "output_type": "stream",
          "name": "stdout",
          "text": [
            "Bienvenidos a Programacion Basica en C++\n",
            "Gracias por Programar en clase"
          ]
        }
      ]
    },
    {
      "cell_type": "markdown",
      "source": [
        "PB302_2.cpp Programa para imprimir datos personales"
      ],
      "metadata": {
        "id": "O1Qy9nl1q2Qk"
      }
    },
    {
      "cell_type": "code",
      "source": [
        "%%writefile PB302_2.cpp\n",
        "//Programa para Mostrar datos personales\n",
        "//Creado por Bryanna Nathaly Duran Delgado\n",
        "//Fecha:18/septiembre/2025\n",
        "//PB302_2.cpp\n",
        "#include <iostream>\n",
        "using namespace std;\n",
        "int main()\n",
        "{\n",
        "  char nombre[17]=\"Bryanna\";\n",
        "  char paterno[14]=\"Duran\";\n",
        "  char materno[18]=\"Delgado\";\n",
        "  int edad=16;\n",
        "  char fechanac[18]=\"02/09/2009\";\n",
        "  char direccion[47]=\"Colonia 16 de septiembre calle Isla Tenerife\";\n",
        "  char ciudadnac[17]=\"Ciudad Juarez\";\n",
        "cout<<\"Tu nombre completo es:\\n\";\n",
        "cout<<nombre<<\"\\n\";\n",
        "cout<<paterno<<\"\\n\";\n",
        "cout<<materno<<\"\\n\";\n",
        "cout<<edad<<\"\\n\";\n",
        "cout<<fechanac<<\"\\n\";\n",
        "cout<<direccion<<\"\\n\";\n",
        "cout<<ciudadnac<<\"\\n\";\n",
        "return 0;\n",
        "}\n",
        ""
      ],
      "metadata": {
        "colab": {
          "base_uri": "https://localhost:8080/"
        },
        "id": "c5Vlm9ZjrCJc",
        "outputId": "2c0413c1-2dd2-4467-b9ed-463dd0898679"
      },
      "execution_count": 16,
      "outputs": [
        {
          "output_type": "stream",
          "name": "stdout",
          "text": [
            "Overwriting PB302_2.cpp\n"
          ]
        }
      ]
    },
    {
      "cell_type": "code",
      "source": [
        "!g++ PB302_2.cpp -o PB302_2.exe\n",
        "!./PB302_2.exe"
      ],
      "metadata": {
        "colab": {
          "base_uri": "https://localhost:8080/"
        },
        "id": "xBGxRri6xRan",
        "outputId": "fbc0ae68-0d2b-4d9d-f336-f3f2dece88b3"
      },
      "execution_count": 17,
      "outputs": [
        {
          "output_type": "stream",
          "name": "stdout",
          "text": [
            "Tu nombre completo es:\n",
            "Bryanna\n",
            "Duran\n",
            "Delgado\n",
            "16\n",
            "02/09/2009\n",
            "Colonia 16 de septiembre calle Isla Tenerife\n",
            "Ciudad Juarez\n"
          ]
        }
      ]
    }
  ]
}