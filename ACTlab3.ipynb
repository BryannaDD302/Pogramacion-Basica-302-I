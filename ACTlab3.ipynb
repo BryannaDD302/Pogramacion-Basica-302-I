{
  "nbformat": 4,
  "nbformat_minor": 0,
  "metadata": {
    "colab": {
      "provenance": [],
      "authorship_tag": "ABX9TyOdnCzCQ/6xKNkIkgTojUrJ",
      "include_colab_link": true
    },
    "kernelspec": {
      "name": "python3",
      "display_name": "Python 3"
    },
    "language_info": {
      "name": "python"
    }
  },
  "cells": [
    {
      "cell_type": "markdown",
      "metadata": {
        "id": "view-in-github",
        "colab_type": "text"
      },
      "source": [
        "<a href=\"https://colab.research.google.com/github/BryannaDD302/Pogramacion-Basica-302-I/blob/main/ACTlab3.ipynb\" target=\"_parent\"><img src=\"https://colab.research.google.com/assets/colab-badge.svg\" alt=\"Open In Colab\"/></a>"
      ]
    },
    {
      "cell_type": "markdown",
      "source": [
        "PB30?_.7- Realizar un programa que permita definir 3 variables de tipo caracter (char [ ]), en la primer variable capturaras desde teclado tu nombre, en la segunda variable capturaras desde teclado tu paterno y en la tercer variable capturaras desde teclado tu materno para mostrar en pantalla la longitud de caracteres que tiene cada variable capturada."
      ],
      "metadata": {
        "id": "b9jTHQdA0GWg"
      }
    },
    {
      "cell_type": "code",
      "source": [
        "%%writefile PB302_7.cpp\n",
        "//Programa para capturar 3 variables de teclado\n",
        "//Creado por Bryanna Nathaly Duran Delgado\n",
        "//Fecha:02/Octubre/2025\n",
        "//PB302_7.cpp\n",
        "#include <iostream>\n",
        "#include <string.h>\n",
        "using namespace std;\n",
        "int main()\n",
        "{\n",
        "  char nombre[20];\n",
        "  char paterno[20];\n",
        "  char materno[20];\n",
        "  cout<<\"Ingresa tu nombre:\";\n",
        "  cin>>nombre; //captura desde teclado\n",
        "  cout<<\"Tu nombre es \\t\"<<nombre<<\"\\n\";\n",
        "  cout<<\"Ingresar tu paterno: \";\n",
        "  cin>>paterno; //captura desde teclado\n",
        "  cout<<\"Tu paterno es \\t\"<<paterno<<\"\\n\";\n",
        "  cout<<\"Ingresar tu materno:\";\n",
        "  cin>>materno; //captura desde teclado\n",
        "  cout<<\"Tu materno es \\t\"<<materno<<\"\\n\";\n",
        "  cout<<\"La longitud de tu nombre es \\t\"<<strlen(nombre)<<\"\\n\";\n",
        "  cout<<\"La longitud de tu paterno es \\t\"<<strlen(paterno)<<\"\\n\";\n",
        "  cout<<\"La longitud de tu materno es \\t\"<<strlen(materno)<<\"\\n\";\n",
        "  return 0;\n",
        "}"
      ],
      "metadata": {
        "colab": {
          "base_uri": "https://localhost:8080/"
        },
        "id": "nCat-rFX0R4n",
        "outputId": "48effc5a-5853-4ef8-956b-2b06c12a9091"
      },
      "execution_count": 36,
      "outputs": [
        {
          "output_type": "stream",
          "name": "stdout",
          "text": [
            "Overwriting PB302_7.cpp\n"
          ]
        }
      ]
    },
    {
      "cell_type": "code",
      "source": [
        "!g++ PB302_7.cpp -o PB302_7\n",
        "!./PB302_7"
      ],
      "metadata": {
        "colab": {
          "base_uri": "https://localhost:8080/"
        },
        "id": "kgKNOW5s1-4v",
        "outputId": "47a45f75-024c-47e5-8eaa-94f2d872f5b0"
      },
      "execution_count": 37,
      "outputs": [
        {
          "output_type": "stream",
          "name": "stdout",
          "text": [
            "Ingresa tu nombre:Bryanna\n",
            "Tu nombre es \tBryanna\n",
            "Ingresar tu paterno: Duran\n",
            "Tu paterno es \tDuran\n",
            "Ingresar tu materno:Delgado\n",
            "Tu materno es \tDelgado\n",
            "La longitud de tu nombre es \t7\n",
            "La longitud de tu paterno es \t5\n",
            "La longitud de tu materno es \t7\n"
          ]
        }
      ]
    },
    {
      "cell_type": "markdown",
      "source": [
        "PB30?_8  .- Realizar un programa que permita definir y capturar 10 variables de tipo caracter (char [ ]) y calcule la longitud de cada una de ellas en 10 variables enteras, posteriormente en una variable entera llamada total_de_letras calculará la suma de las longitudes de las 10 variables capturadas."
      ],
      "metadata": {
        "id": "PUoe9Ez_7qER"
      }
    },
    {
      "cell_type": "code",
      "source": [
        "%%writefile PB302_8.cpp\n",
        "//Programa para capturar 5 variables de teclado\n",
        "//Creado por Bryanna Nathaly Duran Delgado\n",
        "//Fecha:02/Octubre/2025\n",
        "//PB302_8.cpp\n",
        "#include <iostream>\n",
        "#include <string.h>\n",
        "using namespace std;\n",
        "int main()\n",
        "{\n",
        "  char palabra1[20];\n",
        "  char palabra2[20];\n",
        "  char palabra3[20];\n",
        "  char palabra4[20];\n",
        "  char palabra5[20];\n",
        "  cout<<\"Ingresa tu palabra1:\";\n",
        "  cin>>palabra1; //captura desde teclado\n",
        "  cout<<\"Ingresar tu palabra2: \";\n",
        "  cin>>palabra2; //captura desde teclado\n",
        "  cout<<\"Ingresa tu palabra3:\";\n",
        "  cin>>palabra3; //captura desde teclado\n",
        "  cout<<\"Ingresa tu palabra4:\";\n",
        "  cin>>palabra4; //captura desde teclado\n",
        "  cout<<\"Ingresa tu palabra5:\";\n",
        "  cin>>palabra5; //captura desde teclado\n",
        "  cout<<\"Tu palabra es \\t\"<<palabra1<<\"\\n\";\n",
        "  cout<<\"Tu palabra es \\t\"<<palabra2<<\"\\n\";\n",
        "  cout<<\"Tu palabra es \\t\"<<palabra3<<\"\\n\";\n",
        "  cout<<\"Tu palabra es \\t\"<<palabra4<<\"\\n\";\n",
        "  cout<<\"Tu palabra es \\t\"<<palabra5<<\"\\n\";\n",
        "  cout<<\"La longitud de tu palabra es \\t\"<<strlen(palabra1)<<\"\\n\";\n",
        "  cout<<\"La longitud de tu palabra es \\t\"<<strlen(palabra2)<<\"\\n\";\n",
        "  cout<<\"La longitud de tu palabra es \\t\"<<strlen(palabra3)<<\"\\n\";\n",
        "  cout<<\"La longitud de tu palabra es \\t\"<<strlen(palabra4)<<\"\\n\";\n",
        "  cout<<\"La longitud de tu palabra es \\t\"<<strlen(palabra5)<<\"\\n\";\n",
        "  cout<<\"La suma de las letras de las 5 palabras es \\t\";\n",
        "  cout<<strlen(palabra1)+strlen(palabra2)+strlen(palabra3)+strlen(palabra4)+strlen(palabra5);\n",
        "  return 0;\n",
        "}"
      ],
      "metadata": {
        "colab": {
          "base_uri": "https://localhost:8080/"
        },
        "id": "3X9iCn8F7r7g",
        "outputId": "3778f0d2-f1a7-490a-c9c3-8d722559dda6"
      },
      "execution_count": 43,
      "outputs": [
        {
          "output_type": "stream",
          "name": "stdout",
          "text": [
            "Overwriting PB302_8.cpp\n"
          ]
        }
      ]
    },
    {
      "cell_type": "code",
      "source": [
        "!g++ PB302_8.cpp -o PB302_8\n",
        "!./PB302_8"
      ],
      "metadata": {
        "colab": {
          "base_uri": "https://localhost:8080/"
        },
        "id": "wBVgYh65-eeI",
        "outputId": "3a7a883c-5f18-4104-803d-4f105167febc"
      },
      "execution_count": 44,
      "outputs": [
        {
          "output_type": "stream",
          "name": "stdout",
          "text": [
            "Ingresa tu palabra1:brillos\n",
            "Ingresar tu palabra2: maquillaje\n",
            "Ingresa tu palabra3:blush\n",
            "Ingresa tu palabra4:glos\n",
            "Ingresa tu palabra5:romi\n",
            "Tu palabra es \tbrillos\n",
            "Tu palabra es \tmaquillaje\n",
            "Tu palabra es \tblush\n",
            "Tu palabra es \tglos\n",
            "Tu palabra es \tromi\n",
            "La longitud de tu palabra es \t7\n",
            "La longitud de tu palabra es \t10\n",
            "La longitud de tu palabra es \t5\n",
            "La longitud de tu palabra es \t4\n",
            "La longitud de tu palabra es \t4\n",
            "La suma de las letras de las 5 palabras es \t30"
          ]
        }
      ]
    }
  ]
}